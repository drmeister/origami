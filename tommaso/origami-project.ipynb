{
 "cells": [
  {
   "cell_type": "code",
   "execution_count": 1,
   "metadata": {
    "scrolled": true
   },
   "outputs": [
    {
     "name": "stdout",
     "output_type": "stream",
     "text": [
      "To load \"cl-json\":\n",
      "  Install 1 Quicklisp release:\n",
      "    cl-json\n",
      "==================================================\n",
      "61,399 bytes in 0.02 seconds (2855.24KB/sec)\n",
      "; Loading \"cl-json\"\n",
      "..................................................\n",
      "[package json]....................................\n",
      "[package json-rpc]................................\n",
      "..................................................\n",
      "..............................................\n"
     ]
    },
    {
     "data": {
      "text/plain": [
       "(\"cl-json\")"
      ]
     },
     "execution_count": 1,
     "metadata": {},
     "output_type": "execute_result"
    }
   ],
   "source": [
    "(ql:quickload \"cl-json\")"
   ]
  },
  {
   "cell_type": "code",
   "execution_count": 2,
   "metadata": {},
   "outputs": [
    {
     "data": {
      "text/plain": [
       "\"/home/app/work/home/cando/origami/tommaso/\""
      ]
     },
     "execution_count": 2,
     "metadata": {},
     "output_type": "execute_result"
    }
   ],
   "source": [
    "(ext:getcwd)"
   ]
  },
  {
   "cell_type": "code",
   "execution_count": 2,
   "metadata": {},
   "outputs": [
    {
     "data": {
      "text/plain": [
       "T"
      ]
     },
     "execution_count": 2,
     "metadata": {},
     "output_type": "execute_result"
    }
   ],
   "source": [
    "(load \"../lib/tools.lisp\")"
   ]
  },
  {
   "cell_type": "code",
   "execution_count": 3,
   "metadata": {},
   "outputs": [
    {
     "name": "stderr",
     "output_type": "stream",
     "text": [
      "SIMPLE-WARNING: \n",
      "Add support for proclaim (TYPE LIST *MAILBOXES*)\n"
     ]
    },
    {
     "data": {
      "text/plain": [
       "#<PROCESS SWANK-MAIN @0xd06bc89>"
      ]
     },
     "execution_count": 3,
     "metadata": {},
     "output_type": "execute_result"
    }
   ],
   "source": [
    "(slime)"
   ]
  },
  {
   "cell_type": "code",
   "execution_count": 13,
   "metadata": {},
   "outputs": [
    {
     "data": {
      "text/plain": [
       "*S*"
      ]
     },
     "execution_count": 13,
     "metadata": {},
     "output_type": "execute_result"
    }
   ],
   "source": [
    "(defparameter *s* \n",
    "    (open \"cadnano_test_file/gap_vs_skip.json\"  :direction :input)\n",
    "    )"
   ]
  },
  {
   "cell_type": "code",
   "execution_count": 9,
   "metadata": {},
   "outputs": [
    {
     "data": {
      "text/plain": [
       "#<IOSTREAM-STREAM cadnano_test_file/gap_vs_skip.json>"
      ]
     },
     "execution_count": 9,
     "metadata": {},
     "output_type": "execute_result"
    }
   ],
   "source": [
    "*s*"
   ]
  },
  {
   "cell_type": "code",
   "execution_count": 14,
   "metadata": {},
   "outputs": [
    {
     "data": {
      "text/plain": [
       "*J*"
      ]
     },
     "execution_count": 14,
     "metadata": {},
     "output_type": "execute_result"
    }
   ],
   "source": [
    "(defparameter *j* (json:decode-json *s*))"
   ]
  },
  {
   "cell_type": "code",
   "execution_count": 23,
   "metadata": {},
   "outputs": [
    {
     "name": "stdout",
     "output_type": "stream",
     "text": [
      "vstrand -> #<CL-JUPYTER-USER::VSTRAND>\n",
      "vstrand -> #<CL-JUPYTER-USER::VSTRAND>\n"
     ]
    },
    {
     "data": {
      "text/plain": [
       "*ORIGAMI*"
      ]
     },
     "execution_count": 23,
     "metadata": {},
     "output_type": "execute_result"
    }
   ],
   "source": [
    "(defparameter *origami* (parse-json *j*))"
   ]
  },
  {
   "cell_type": "code",
   "execution_count": 7,
   "metadata": {},
   "outputs": [
    {
     "data": {
      "text/plain": [
       "#<HASH-TABLE-EQL :count 2 :total-alist-entries 2 @0x160dc328> "
      ]
     },
     "execution_count": 7,
     "metadata": {},
     "output_type": "execute_result"
    }
   ],
   "source": [
    "*origami*"
   ]
  },
  {
   "cell_type": "code",
   "execution_count": 27,
   "metadata": {},
   "outputs": [
    {
     "data": {
      "text/plain": [
       "NIL"
      ]
     },
     "execution_count": 27,
     "metadata": {},
     "output_type": "execute_result"
    }
   ],
   "source": [
    "(draw-graph \"graph.dot\" *origami*)"
   ]
  },
  {
   "cell_type": "code",
   "execution_count": 23,
   "metadata": {},
   "outputs": [
    {
     "data": {
      "text/plain": [
       "(NIL -1 -1 -1 NIL -1 -1 -4 -1 -1 -1 -1)"
      ]
     },
     "execution_count": 23,
     "metadata": {},
     "output_type": "execute_result"
    }
   ],
   "source": [
    "(arrow-direction (scaffold-vec (gethash 0 *origami*)))"
   ]
  },
  {
   "cell_type": "code",
   "execution_count": 19,
   "metadata": {},
   "outputs": [
    {
     "name": "stdout",
     "output_type": "stream",
     "text": [
      "ASDF/UPGRADE::*OLDEST-FORWARD-COMPATIBLE-ASDF-VERSION*  has value\n",
      "CLOS::FINALIZE-UNLESS-FORWARD  Function\n",
      "CLOS::FORWARD\n",
      "FORWARD\n",
      "CLEAVIR-LIVENESS:FORWARD-FILTERED-POOL-MIXIN\n",
      ":FORWARD-NODE  Constant\n",
      "FORWARD-NODE  Function\n",
      "CLOS:FORWARD-REFERENCED-CLASS\n",
      "CLOS::FORWARD-REFERENCED-CLASS-P  Function\n",
      ":FORWARD-SEARCH  Constant\n",
      "CLEAVIR-KILDALL:FORWARD-SINGLE-TRAVERSE\n",
      "CLEAVIR-KILDALL:FORWARD-SPREAD-TRAVERSE\n",
      "CLEAVIR-KILDALL:FORWARD-TRAVERSE\n",
      "CLEAVIR-KILDALL:FORWARD-TRAVERSE-INTERFUNCTION\n",
      ":FORWARDER  Constant\n",
      "CLOS::HAS-FORWARD-REFERENCED-PARENTS  Function\n",
      "QL-HTTP::SKIP-WHITE-FORWARD  Function\n",
      "CORE::TPL-FORWARD-SEARCH  Function\n"
     ]
    },
    {
     "data": {
      "text/plain": [
       "NIL"
      ]
     },
     "execution_count": 19,
     "metadata": {},
     "output_type": "execute_result"
    }
   ],
   "source": [
    "(apropos \"forward\")"
   ]
  },
  {
   "cell_type": "code",
   "execution_count": null,
   "metadata": {
    "collapsed": true
   },
   "outputs": [],
   "source": []
  }
 ],
 "metadata": {
  "kernelspec": {
   "display_name": "CANDO",
   "language": "lisp",
   "name": "lisp"
  },
  "language_info": {
   "codemirror_mode": "text/x-common-lisp",
   "mimetype": "text/x-common-lisp",
   "name": "common-lisp",
   "pygments_lexer": "common-lisp",
   "version": "X3J13"
  }
 },
 "nbformat": 4,
 "nbformat_minor": 2
}
